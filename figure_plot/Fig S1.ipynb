{
 "cells": [
  {
   "cell_type": "code",
   "execution_count": 1,
   "id": "eff7cf05-3272-4967-aca2-a0ef07de185a",
   "metadata": {},
   "outputs": [],
   "source": [
    "import numpy as np\n",
    "import matplotlib.pyplot as plt\n",
    "import seaborn as sns\n",
    "from matplotlib.colors import LinearSegmentedColormap\n",
    "import pickle\n",
    "from scipy.spatial.distance import squareform\n",
    "import os\n",
    "import math\n",
    "import pandas as pd\n",
    "import tqdm"
   ]
  },
  {
   "cell_type": "code",
   "execution_count": 2,
   "id": "7d86f394-a551-4b7d-9163-9f0a2b1a5a44",
   "metadata": {},
   "outputs": [],
   "source": [
    "CNN_por_cm = np.load('/home/lijy/workspace/sustag_orctrl/test/output/porcupine/cnn_porcupine_confusion_matrix.npy')"
   ]
  },
  {
   "cell_type": "code",
   "execution_count": 10,
   "id": "4c61f614-87cc-43d4-a76c-150ad7be2b0d",
   "metadata": {},
   "outputs": [
    {
     "data": {
      "text/plain": [
       "array([[0.80353982, 0.        , 0.        , ..., 0.        , 0.        ,\n",
       "        0.        ],\n",
       "       [0.00526316, 0.93684211, 0.        , ..., 0.        , 0.00526316,\n",
       "        0.        ],\n",
       "       [0.015625  , 0.        , 0.953125  , ..., 0.        , 0.        ,\n",
       "        0.        ],\n",
       "       ...,\n",
       "       [0.00515464, 0.        , 0.        , ..., 0.97938144, 0.        ,\n",
       "        0.        ],\n",
       "       [0.        , 0.        , 0.00558659, ..., 0.        , 0.96089385,\n",
       "        0.00558659],\n",
       "       [0.        , 0.        , 0.        , ..., 0.        , 0.        ,\n",
       "        0.960199  ]])"
      ]
     },
     "execution_count": 10,
     "metadata": {},
     "output_type": "execute_result"
    }
   ],
   "source": [
    "CNN_por_cm"
   ]
  },
  {
   "cell_type": "code",
   "execution_count": 3,
   "id": "ca658749-9730-4c3c-a278-4d8d50b1cfe1",
   "metadata": {},
   "outputs": [],
   "source": [
    "def norm_per_row(confusion_matrix):\n",
    "    row_sums = confusion_matrix.sum(axis=1, keepdims=True)\n",
    "    normalized_matrix = confusion_matrix / row_sums\n",
    "    return normalized_matrix"
   ]
  },
  {
   "cell_type": "code",
   "execution_count": 12,
   "id": "99e05c43-1315-4bab-991d-14fa14787134",
   "metadata": {},
   "outputs": [],
   "source": [
    "# CNN_por_cm_norm = norm_per_row(CNN_por_cm)\n",
    "\n",
    "CNN_por_wo0 = CNN_por_cm[1:, 1:]"
   ]
  },
  {
   "cell_type": "code",
   "execution_count": 19,
   "id": "aef8f7a4-7a66-4031-85a9-6580c4cef7cd",
   "metadata": {},
   "outputs": [
    {
     "name": "stdout",
     "output_type": "stream",
     "text": [
      "(96, 96)\n"
     ]
    },
    {
     "data": {
      "image/png": "[encoded data removed]",
      "text/plain": [
       "<Figure size 800x600 with 2 Axes>"
      ]
     },
     "metadata": {},
     "output_type": "display_data"
    }
   ],
   "source": [
    "cms = [CNN_por_wo0]\n",
    "labels = ['CNN_por']\n",
    "# custom_cmaps = [LinearSegmentedColormap.from_list(\"custom_cmap\", ['#ffedde', '#ffb87c', '#ed6c00'], N=128),\n",
    "#                 LinearSegmentedColormap.from_list(\"custom_cmap\", ['#ffedde', '#ffb87c', '#ed6c00'], N=128),\n",
    "#                 LinearSegmentedColormap.from_list(\"custom_cmap\", ['#ffedde', '#ffb87c', '#ed6c00'], N=128),\n",
    "#                ]\n",
    "\n",
    "custom_cmaps = [\n",
    "                # LinearSegmentedColormap.from_list(\"custom_cmap\", ['#ffffff', '#7f7f7f', '#3f3f3f'], N=128),\n",
    "                LinearSegmentedColormap.from_list(\"custom_cmap\", ['#ffedde', '#ffb87c', '#ed6c00'], N=128),\n",
    "                LinearSegmentedColormap.from_list(\"custom_cmap\", ['#ffedde', '#ffb87c', '#ed6c00'], N=128),\n",
    "               ]\n",
    "\n",
    "# original_cmap = plt.get_cmap('bone_r')\n",
    "# new_cmap = truncate_colormap(original_cmap, 0.1, 1.0)\n",
    "\n",
    "\n",
    "\n",
    "def remove_trailing_zeros(x, pos):\n",
    "    return ('%f' % x).rstrip('0').rstrip('.')\n",
    "\n",
    "\n",
    "for i in range(len(cms)):\n",
    "\n",
    "    cm_withoutun = cms[i]\n",
    "    print(cm_withoutun.shape)\n",
    "    \n",
    "    plt.figure(figsize=(8, 6))\n",
    "    vmin=0\n",
    "    vmax=0.01\n",
    "    ax = sns.heatmap(cm_withoutun, cmap=custom_cmaps[i], annot=False, vmin=vmin, vmax=vmax)\n",
    "    plt.xlabel('Predicted')\n",
    "    plt.ylabel('Actual')\n",
    "    # 去除x轴和y轴的刻度\n",
    "    plt.xticks([])\n",
    "    plt.yticks([])\n",
    "    \n",
    "    ticks = np.linspace(vmin,vmax,num=2)\n",
    "    colorbar = ax.collections[0].colorbar\n",
    "    colorbar.set_ticks(ticks)\n",
    "    colorbar.set_ticklabels([remove_trailing_zeros(x, None) for x in ticks])\n",
    "    \n",
    "    # plt.title('Porcupine Confusion Matrix')\n",
    "    plt.tight_layout()\n",
    "    plt.savefig(f'./{labels[i]}_cm_96class.png', format='png', dpi=500)"
   ]
  },
  {
   "cell_type": "code",
   "execution_count": 7,
   "id": "155f1907-730d-4529-bb27-cccd40d9d6a3",
   "metadata": {},
   "outputs": [],
   "source": [
    "from sklearn.metrics import precision_recall_fscore_support\n",
    "import numpy as np"
   ]
  },
  {
   "cell_type": "code",
   "execution_count": 8,
   "id": "5aed7a4f-77ce-4bda-ab16-837b07e940cd",
   "metadata": {},
   "outputs": [],
   "source": [
    "def generate_y_true_y_pred(conf_matrix):\n",
    "    y_true = []\n",
    "    y_pred = []\n",
    "    \n",
    "    num_classes = conf_matrix.shape[0] \n",
    "\n",
    "    for i in range(num_classes):\n",
    "        for j in range(num_classes):\n",
    "            count = conf_matrix[i, j] \n",
    "            y_true.extend([i] * count)  \n",
    "            y_pred.extend([j] * count) \n",
    "    \n",
    "    return np.array(y_true), np.array(y_pred)"
   ]
  },
  {
   "cell_type": "code",
   "execution_count": 9,
   "id": "ebc79ffd-c84c-44df-8c9d-8a83d37046a8",
   "metadata": {},
   "outputs": [
    {
     "ename": "TypeError",
     "evalue": "can't multiply sequence by non-int of type 'numpy.float64'",
     "output_type": "error",
     "traceback": [
      "\u001b[0;31m---------------------------------------------------------------------------\u001b[0m",
      "\u001b[0;31mTypeError\u001b[0m                                 Traceback (most recent call last)",
      "Cell \u001b[0;32mIn[9], line 1\u001b[0m\n\u001b[0;32m----> 1\u001b[0m y_true, y_pred \u001b[38;5;241m=\u001b[39m \u001b[43mgenerate_y_true_y_pred\u001b[49m\u001b[43m(\u001b[49m\u001b[43mCNN_por_cm\u001b[49m\u001b[43m)\u001b[49m\n\u001b[1;32m      3\u001b[0m precision, recall, f1, _ \u001b[38;5;241m=\u001b[39m precision_recall_fscore_support(y_true, y_pred, average\u001b[38;5;241m=\u001b[39m\u001b[38;5;124m'\u001b[39m\u001b[38;5;124mweighted\u001b[39m\u001b[38;5;124m'\u001b[39m)\n\u001b[1;32m      5\u001b[0m \u001b[38;5;28mprint\u001b[39m(precision, recall ,f1)\n",
      "Cell \u001b[0;32mIn[8], line 10\u001b[0m, in \u001b[0;36mgenerate_y_true_y_pred\u001b[0;34m(conf_matrix)\u001b[0m\n\u001b[1;32m      8\u001b[0m     \u001b[38;5;28;01mfor\u001b[39;00m j \u001b[38;5;129;01min\u001b[39;00m \u001b[38;5;28mrange\u001b[39m(num_classes):\n\u001b[1;32m      9\u001b[0m         count \u001b[38;5;241m=\u001b[39m conf_matrix[i, j] \n\u001b[0;32m---> 10\u001b[0m         y_true\u001b[38;5;241m.\u001b[39mextend(\u001b[43m[\u001b[49m\u001b[43mi\u001b[49m\u001b[43m]\u001b[49m\u001b[43m \u001b[49m\u001b[38;5;241;43m*\u001b[39;49m\u001b[43m \u001b[49m\u001b[43mcount\u001b[49m)  \n\u001b[1;32m     11\u001b[0m         y_pred\u001b[38;5;241m.\u001b[39mextend([j] \u001b[38;5;241m*\u001b[39m count) \n\u001b[1;32m     13\u001b[0m \u001b[38;5;28;01mreturn\u001b[39;00m np\u001b[38;5;241m.\u001b[39marray(y_true), np\u001b[38;5;241m.\u001b[39marray(y_pred)\n",
      "\u001b[0;31mTypeError\u001b[0m: can't multiply sequence by non-int of type 'numpy.float64'"
     ]
    }
   ],
   "source": [
    "y_true, y_pred = generate_y_true_y_pred(CNN_por_cm)\n",
    "    \n",
    "precision, recall, f1, _ = precision_recall_fscore_support(y_true, y_pred, average='weighted')\n",
    "\n",
    "print(precision, recall ,f1)"
   ]
  },
  {
   "cell_type": "code",
   "execution_count": null,
   "id": "35fd53fa-bf88-493d-baf5-2cd197565f99",
   "metadata": {},
   "outputs": [],
   "source": []
  }
 ],
 "metadata": {
  "kernelspec": {
   "display_name": "Python 3 (ipykernel)",
   "language": "python",
   "name": "python3"
  },
  "language_info": {
   "codemirror_mode": {
    "name": "ipython",
    "version": 3
   },
   "file_extension": ".py",
   "mimetype": "text/x-python",
   "name": "python",
   "nbconvert_exporter": "python",
   "pygments_lexer": "ipython3",
   "version": "3.12.0"
  }
 },
 "nbformat": 4,
 "nbformat_minor": 5
}
